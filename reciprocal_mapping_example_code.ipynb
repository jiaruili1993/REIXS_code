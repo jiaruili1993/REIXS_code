{
 "cells": [
  {
   "cell_type": "markdown",
   "id": "6e317157",
   "metadata": {},
   "source": [
    "# Sample SFO sample"
   ]
  },
  {
   "cell_type": "code",
   "execution_count": null,
   "id": "770ec425",
   "metadata": {},
   "outputs": [],
   "source": [
    "import numpy as np\n",
    "from reixs_rsm import *\n",
    "import os\n",
    "%matplotlib nbagg"
   ]
  },
  {
   "cell_type": "code",
   "execution_count": null,
   "id": "afb2c062",
   "metadata": {},
   "outputs": [],
   "source": [
    "# make sure the directory is set to the spec file directory\n",
    "os.chdir(r'D:\\Stanford\\My Drive\\Experiment\\Synchrotron\\CLS\\202402_CLS\\2024_02\\\\')\n",
    "\n",
    "# the file_name for the spec file, the program reads \"**.dat\" and \"*.dat_mcp\"\n",
    "file_name = 'JSFO068_20240207'\n",
    "unpack_spec_file(file_name)"
   ]
  },
  {
   "cell_type": "code",
   "execution_count": null,
   "id": "a9af5d58",
   "metadata": {
    "scrolled": false
   },
   "outputs": [],
   "source": [
    "grid_data, coords = rsm_convert(file_name,36, flatfield = False)\n",
    "grid_data[grid_data==0] = np.nan\n",
    "\n",
    "flag_log = True\n",
    "flag_dichro = False\n",
    "title = 'scan 36, 20K, LH polarization'\n",
    "\n",
    "fig = h_slice(grid_data, coords, logscale = flag_log, dichro = flag_dichro, title = title)\n",
    "fig = k_slice(grid_data, coords, logscale = flag_log, dichro = flag_dichro, title = title)\n",
    "fig = l_slice(grid_data, coords, logscale = flag_log, dichro = flag_dichro, title = title)\n",
    "# plotly.offline.plot(fig, filename='test.html') # save the figure into html file"
   ]
  },
  {
   "cell_type": "code",
   "execution_count": null,
   "id": "052ddd9a",
   "metadata": {
    "scrolled": false
   },
   "outputs": [],
   "source": [
    "grid_data38, coords38 = rsm_convert(file_name,38)\n",
    "grid_data39, coords39 = rsm_convert(file_name,39)\n",
    "grid_data, coords = grid_data38-grid_data39, coords38\n",
    "flag_log = False\n",
    "flag_dichro = True\n",
    "title = 'scan 38-39, 20K, circular dichroism'\n",
    "\n",
    "fig = h_slice(grid_data, coords, logscale = flag_log, dichro = flag_dichro, title = title)\n",
    "k_slice(grid_data, coords, logscale = flag_log, dichro = flag_dichro, title = title)\n",
    "fig = l_slice(grid_data, coords, logscale = flag_log, dichro = flag_dichro, title = title)\n",
    "# plotly.offline.plot(fig, filename='test.html')"
   ]
  },
  {
   "cell_type": "markdown",
   "id": "3788d338",
   "metadata": {},
   "source": [
    "# Create gif of the plots"
   ]
  },
  {
   "cell_type": "code",
   "execution_count": null,
   "id": "3f856a8f",
   "metadata": {},
   "outputs": [],
   "source": [
    "h_slice_gif(grid_data, coords, file_name = file_name, \n",
    "            logscale = flag_log, dichro = flag_dichro, title = title)"
   ]
  },
  {
   "cell_type": "code",
   "execution_count": null,
   "id": "b597082e",
   "metadata": {},
   "outputs": [],
   "source": [
    "k_slice_gif(grid_data, coords, file_name = file_name+'_s93_k', \n",
    "            logscale = flag_log, dichro = flag_dichro, title = title)"
   ]
  },
  {
   "cell_type": "code",
   "execution_count": null,
   "id": "ef0279e3",
   "metadata": {},
   "outputs": [],
   "source": [
    "l_slice_gif(grid_data, coords, file_name = file_name+'_s93_l', \n",
    "            logscale = flag_log, dichro = flag_dichro, title = title)"
   ]
  },
  {
   "cell_type": "code",
   "execution_count": null,
   "id": "b0c1b78f",
   "metadata": {},
   "outputs": [],
   "source": []
  },
  {
   "cell_type": "markdown",
   "id": "023b9c4d",
   "metadata": {},
   "source": [
    "# Check the detector images"
   ]
  },
  {
   "cell_type": "code",
   "execution_count": null,
   "id": "4b54ddb9",
   "metadata": {},
   "outputs": [],
   "source": [
    "grid_data, coords, imgs, qx, qy, qz = rsm_convert(file_name,36, flatfield = True, return_imgs=True)\n",
    "visualize_det(imgs, qx,qy,qz)"
   ]
  },
  {
   "cell_type": "code",
   "execution_count": null,
   "id": "e5d5fcd5",
   "metadata": {},
   "outputs": [],
   "source": []
  },
  {
   "cell_type": "code",
   "execution_count": null,
   "id": "bf0099ab",
   "metadata": {},
   "outputs": [],
   "source": []
  },
  {
   "cell_type": "code",
   "execution_count": null,
   "id": "05bb23c8",
   "metadata": {},
   "outputs": [],
   "source": []
  }
 ],
 "metadata": {
  "kernelspec": {
   "display_name": "xray",
   "language": "python",
   "name": "xray"
  },
  "language_info": {
   "codemirror_mode": {
    "name": "ipython",
    "version": 3
   },
   "file_extension": ".py",
   "mimetype": "text/x-python",
   "name": "python",
   "nbconvert_exporter": "python",
   "pygments_lexer": "ipython3",
   "version": "3.11.7"
  },
  "toc": {
   "base_numbering": 1,
   "nav_menu": {},
   "number_sections": false,
   "sideBar": true,
   "skip_h1_title": false,
   "title_cell": "",
   "title_sidebar": "Contents",
   "toc_cell": false,
   "toc_position": {},
   "toc_section_display": true,
   "toc_window_display": true
  }
 },
 "nbformat": 4,
 "nbformat_minor": 5
}
